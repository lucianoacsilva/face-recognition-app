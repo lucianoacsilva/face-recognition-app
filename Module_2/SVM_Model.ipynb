{
 "cells": [
  {
   "cell_type": "markdown",
   "source": [
    "# Support Vector Machine Model"
   ],
   "metadata": {}
  },
  {
   "cell_type": "code",
   "execution_count": 12,
   "source": [
    "import warnings\n",
    "warnings.filterwarnings(\"ignore\")\n",
    "import numpy as np\n",
    "import pandas as pd\n",
    "import matplotlib.pyplot as plt\n",
    "from sklearn.decomposition import PCA\n",
    "%matplotlib inline"
   ],
   "outputs": [],
   "metadata": {}
  },
  {
   "cell_type": "code",
   "execution_count": 13,
   "source": [
    "data = np.load(\"./data/data_pca_50_y_mean.pickle.npz\")\n",
    "data.files"
   ],
   "outputs": [
    {
     "output_type": "execute_result",
     "data": {
      "text/plain": [
       "['arr_0', 'arr_1', 'arr_2']"
      ]
     },
     "metadata": {},
     "execution_count": 13
    }
   ],
   "metadata": {}
  },
  {
   "cell_type": "code",
   "execution_count": 14,
   "source": [
    "X = data[\"arr_0\"]\n",
    "y = data[\"arr_1\"]\n",
    "mean = data[\"arr_2\"]"
   ],
   "outputs": [],
   "metadata": {}
  },
  {
   "cell_type": "code",
   "execution_count": 15,
   "source": [
    "from sklearn.model_selection import train_test_split\n",
    "x_train, x_test, y_train, y_test = train_test_split(X, y, test_size=0.2, stratify=y)\n",
    "x_train.shape, x_test.shape, y_train.shape, y_test.shape"
   ],
   "outputs": [
    {
     "output_type": "execute_result",
     "data": {
      "text/plain": [
       "((4370, 50), (1093, 50), (4370,), (1093,))"
      ]
     },
     "metadata": {},
     "execution_count": 15
    }
   ],
   "metadata": {}
  },
  {
   "cell_type": "markdown",
   "source": [
    "Trains machine learning model."
   ],
   "metadata": {}
  },
  {
   "cell_type": "code",
   "execution_count": 16,
   "source": [
    "from sklearn.svm import SVC\n",
    "\n",
    "model = SVC(C=1.0, kernel=\"rbf\", gamma= 0.01, probability= True)\n",
    "model.fit(x_train, y_train)\n",
    "print(\"Model trained successfully!\")"
   ],
   "outputs": [
    {
     "output_type": "stream",
     "name": "stdout",
     "text": [
      "Model trained successfully!\n"
     ]
    }
   ],
   "metadata": {}
  },
  {
   "cell_type": "markdown",
   "source": [
    "Scores."
   ],
   "metadata": {}
  },
  {
   "cell_type": "code",
   "execution_count": 17,
   "source": [
    "model.score(x_train, y_train), model.score(x_test, y_test)"
   ],
   "outputs": [
    {
     "output_type": "execute_result",
     "data": {
      "text/plain": [
       "(0.8617848970251716, 0.8051235132662397)"
      ]
     },
     "metadata": {},
     "execution_count": 17
    }
   ],
   "metadata": {}
  },
  {
   "cell_type": "markdown",
   "source": [
    "## Model evaluation\n",
    "- Confusion Matrix\n",
    "- Classification Report\n",
    "- Kappa Score\n",
    "- ROC and AUC (probability)"
   ],
   "metadata": {}
  },
  {
   "cell_type": "code",
   "execution_count": 30,
   "source": [
    "from sklearn import metrics\n",
    "\n",
    "y_pred = model.predict(x_test)\n",
    "y_prob = model.predict_proba(x_test) # Probabilities\n",
    "\n",
    "cm = metrics.confusion_matrix(y_test, y_pred)\n",
    "cm = np.concatenate((cm, cm.sum(axis=0).reshape(1, -1)), axis=0)\n",
    "cm = np.concatenate((cm, cm.sum(axis=1).reshape(-1, 1)), axis=1)\n",
    "\n",
    "plt.imshow(cm)\n",
    "\n",
    "for i in range(3):\n",
    "    for j in range(3):\n",
    "        plt.text(i, j, cm[i,j])\n",
    "\n",
    "plt.xticks([0, 1])\n",
    "plt.yticks([0, 1])\n",
    "plt.xlabel(\"Predicted values\")\n",
    "plt.ylabel(\"True values\")\n",
    "plt.show()\n"
   ],
   "outputs": [
    {
     "output_type": "display_data",
     "data": {
      "image/png": "[encoded data removed]",
      "text/plain": [
       "<Figure size 432x288 with 1 Axes>"
      ]
     },
     "metadata": {
      "needs_background": "light"
     }
    }
   ],
   "metadata": {}
  },
  {
   "cell_type": "markdown",
   "source": [
    "Makes classification report."
   ],
   "metadata": {}
  },
  {
   "cell_type": "code",
   "execution_count": 33,
   "source": [
    "class_report = metrics.classification_report(y_test, y_pred, target_names=[\"male\", \"female\"], output_dict= True)\n",
    "pd.DataFrame(class_report).T"
   ],
   "outputs": [
    {
     "output_type": "execute_result",
     "data": {
      "text/html": [
       "<div>\n",
       "<style scoped>\n",
       "    .dataframe tbody tr th:only-of-type {\n",
       "        vertical-align: middle;\n",
       "    }\n",
       "\n",
       "    .dataframe tbody tr th {\n",
       "        vertical-align: top;\n",
       "    }\n",
       "\n",
       "    .dataframe thead th {\n",
       "        text-align: right;\n",
       "    }\n",
       "</style>\n",
       "<table border=\"1\" class=\"dataframe\">\n",
       "  <thead>\n",
       "    <tr style=\"text-align: right;\">\n",
       "      <th></th>\n",
       "      <th>precision</th>\n",
       "      <th>recall</th>\n",
       "      <th>f1-score</th>\n",
       "      <th>support</th>\n",
       "    </tr>\n",
       "  </thead>\n",
       "  <tbody>\n",
       "    <tr>\n",
       "      <th>male</th>\n",
       "      <td>0.790816</td>\n",
       "      <td>0.702948</td>\n",
       "      <td>0.744298</td>\n",
       "      <td>441.000000</td>\n",
       "    </tr>\n",
       "    <tr>\n",
       "      <th>female</th>\n",
       "      <td>0.813124</td>\n",
       "      <td>0.874233</td>\n",
       "      <td>0.842572</td>\n",
       "      <td>652.000000</td>\n",
       "    </tr>\n",
       "    <tr>\n",
       "      <th>accuracy</th>\n",
       "      <td>0.805124</td>\n",
       "      <td>0.805124</td>\n",
       "      <td>0.805124</td>\n",
       "      <td>0.805124</td>\n",
       "    </tr>\n",
       "    <tr>\n",
       "      <th>macro avg</th>\n",
       "      <td>0.801970</td>\n",
       "      <td>0.788590</td>\n",
       "      <td>0.793435</td>\n",
       "      <td>1093.000000</td>\n",
       "    </tr>\n",
       "    <tr>\n",
       "      <th>weighted avg</th>\n",
       "      <td>0.804123</td>\n",
       "      <td>0.805124</td>\n",
       "      <td>0.802921</td>\n",
       "      <td>1093.000000</td>\n",
       "    </tr>\n",
       "  </tbody>\n",
       "</table>\n",
       "</div>"
      ],
      "text/plain": [
       "              precision    recall  f1-score      support\n",
       "male           0.790816  0.702948  0.744298   441.000000\n",
       "female         0.813124  0.874233  0.842572   652.000000\n",
       "accuracy       0.805124  0.805124  0.805124     0.805124\n",
       "macro avg      0.801970  0.788590  0.793435  1093.000000\n",
       "weighted avg   0.804123  0.805124  0.802921  1093.000000"
      ]
     },
     "metadata": {},
     "execution_count": 33
    }
   ],
   "metadata": {}
  },
  {
   "cell_type": "markdown",
   "source": [
    "Kappa score."
   ],
   "metadata": {}
  },
  {
   "cell_type": "code",
   "execution_count": 34,
   "source": [
    "metrics.cohen_kappa_score(y_test, y_pred)"
   ],
   "outputs": [
    {
     "output_type": "execute_result",
     "data": {
      "text/plain": [
       "0.5877480189472752"
      ]
     },
     "metadata": {},
     "execution_count": 34
    }
   ],
   "metadata": {}
  },
  {
   "cell_type": "markdown",
   "source": [
    "## ROC and AUC"
   ],
   "metadata": {}
  },
  {
   "cell_type": "code",
   "execution_count": 39,
   "source": [
    "fpr, tpr, thresh = metrics.roc_curve(y_test, y_prob[:, 1]) # ROC for female\n",
    "auc_score = metrics.auc(fpr, tpr)\n",
    "\n",
    "plt.figure(figsize=(10, 6))\n",
    "plt.plot(fpr, tpr, \"--\")\n",
    "plt.plot([0, 1], [0, 1], \"b--\")\n",
    "\n",
    "for i in range(0, len(thresh), 20):\n",
    "    plt.plot(fpr[i], tpr[i], \"^\")\n",
    "    plt.text(fpr[i], tpr[i], \"%0.2f\"%thresh[i])\n",
    "\n",
    "plt.legend([\"AUC Score = %0.2f\"%auc_score])\n",
    "plt.xlabel(\"False Positive Rate\")\n",
    "plt.ylabel(\"True Positive Rate\")\n",
    "plt.title(\"Receiver Operating Characteristics\")\n",
    "plt.show()"
   ],
   "outputs": [
    {
     "output_type": "display_data",
     "data": {
      "image/png": "[encoded data removed]",
      "text/plain": [
       "<Figure size 720x432 with 1 Axes>"
      ]
     },
     "metadata": {
      "needs_background": "light"
     }
    }
   ],
   "metadata": {}
  }
 ],
 "metadata": {
  "orig_nbformat": 4,
  "language_info": {
   "name": "python",
   "version": "3.8.10",
   "mimetype": "text/x-python",
   "codemirror_mode": {
    "name": "ipython",
    "version": 3
   },
   "pygments_lexer": "ipython3",
   "nbconvert_exporter": "python",
   "file_extension": ".py"
  },
  "kernelspec": {
   "name": "python3",
   "display_name": "Python 3.8.10 64-bit ('face-rec': venv)"
  },
  "interpreter": {
   "hash": "352e9ed32aa55aa83ea4a9f5cbabd2c8bc9fc1ad68741b7462be560339b6c197"
  }
 },
 "nbformat": 4,
 "nbformat_minor": 2
}