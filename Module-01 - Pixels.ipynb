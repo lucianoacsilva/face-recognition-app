{
 "cells": [
  {
   "cell_type": "markdown",
   "id": "eaa2cf95",
   "metadata": {},
   "source": [
    "# Values or pixels"
   ]
  },
  {
   "cell_type": "code",
   "execution_count": 1,
   "id": "76aeb1ad",
   "metadata": {},
   "outputs": [],
   "source": [
    "import numpy as np\n",
    "import cv2\n",
    "import matplotlib.pyplot as plt\n",
    "%matplotlib inline"
   ]
  },
  {
   "cell_type": "code",
   "execution_count": 3,
   "id": "7b2e6039",
   "metadata": {},
   "outputs": [
    {
     "name": "stdout",
     "output_type": "stream",
     "text": [
      "[ 0  1  2  3  4  5  6  7  8  9 10 11 12 13 14 15 16 17 18 19 20 21 22 23\n",
      " 24 25 26 27 28 29 30 31 32 33 34 35 36 37 38 39 40 41 42 43 44 45 46 47\n",
      " 48 49 50 51 52 53 54 55 56 57 58 59 60 61 62 63 64 65 66 67 68 69 70 71\n",
      " 72 73 74 75 76 77 78 79 80 81 82 83 84 85 86 87 88 89 90 91 92 93 94 95\n",
      " 96 97 98 99]\n"
     ]
    },
    {
     "data": {
      "text/plain": [
       "100"
      ]
     },
     "execution_count": 3,
     "metadata": {},
     "output_type": "execute_result"
    }
   ],
   "source": [
    "arr = np.arange(0, 100, 1)\n",
    "print(arr)\n"
   ]
  },
  {
   "cell_type": "code",
   "execution_count": 4,
   "id": "230f2fed",
   "metadata": {},
   "outputs": [
    {
     "data": {
      "text/plain": [
       "(100,)"
      ]
     },
     "execution_count": 4,
     "metadata": {},
     "output_type": "execute_result"
    }
   ],
   "source": [
    "arr.shape"
   ]
  },
  {
   "cell_type": "code",
   "execution_count": 7,
   "id": "94a3a072",
   "metadata": {},
   "outputs": [],
   "source": [
    "array_1 = arr.reshape((10,10))"
   ]
  },
  {
   "cell_type": "code",
   "execution_count": 11,
   "id": "61c67101",
   "metadata": {},
   "outputs": [
    {
     "data": {
      "text/plain": [
       "<matplotlib.image.AxesImage at 0x7f7eba1bb100>"
      ]
     },
     "execution_count": 11,
     "metadata": {},
     "output_type": "execute_result"
    },
    {
     "data": {
      "image/png": "[encoded data removed]",
      "text/plain": [
       "<Figure size 432x288 with 1 Axes>"
      ]
     },
     "metadata": {
      "needs_background": "light"
     },
     "output_type": "display_data"
    }
   ],
   "source": [
    "plt.imshow(array_1, cmap= \"gray\")"
   ]
  },
  {
   "cell_type": "markdown",
   "id": "5d2d92b2",
   "metadata": {},
   "source": [
    "Display random pixels."
   ]
  },
  {
   "cell_type": "code",
   "execution_count": 13,
   "id": "ca36af7f",
   "metadata": {},
   "outputs": [
    {
     "data": {
      "text/plain": [
       "array([[ 64,  84, 114,  46,  23,   6, 115,   5,  17,  78],\n",
       "       [145, 145,   3,  76,  92, 148,  54, 143,  44,  30],\n",
       "       [ 48,  77, 124,  45, 140,  25,  62,  61,  93, 110],\n",
       "       [140, 131,  82,  21,  82,  50, 131,  80,  96,  31],\n",
       "       [ 35, 105,  27, 120,  29,   6,  29, 123,  51, 140],\n",
       "       [ 75,  45, 114, 107, 103, 135,  46,  93,  37,   2],\n",
       "       [ 72,  95,  49,  49, 125,  28,  37,  32, 132,  56],\n",
       "       [ 47,  83, 130, 149,   0,  88,  74, 127,  38,   0],\n",
       "       [115, 121, 115,  24, 148, 127,   7,   1,   2,  12],\n",
       "       [ 96,  16, 137,  46,  61, 114, 137, 121, 139,  79]])"
      ]
     },
     "execution_count": 13,
     "metadata": {},
     "output_type": "execute_result"
    }
   ],
   "source": [
    "array_2 = np.random.randint(0, 150, (10, 10))\n",
    "array_2"
   ]
  },
  {
   "cell_type": "code",
   "execution_count": 15,
   "id": "6cb7a62e",
   "metadata": {},
   "outputs": [
    {
     "data": {
      "text/plain": [
       "<matplotlib.image.AxesImage at 0x7f7eba8156d0>"
      ]
     },
     "execution_count": 15,
     "metadata": {},
     "output_type": "execute_result"
    },
    {
     "data": {
      "image/png": "[encoded data removed]",
      "text/plain": [
       "<Figure size 432x288 with 1 Axes>"
      ]
     },
     "metadata": {
      "needs_background": "light"
     },
     "output_type": "display_data"
    }
   ],
   "source": [
    "plt.imshow(array_2, cmap= \"gray\")"
   ]
  },
  {
   "cell_type": "markdown",
   "id": "29bf61eb",
   "metadata": {},
   "source": [
    "Slicing gray-scale image."
   ]
  },
  {
   "cell_type": "code",
   "execution_count": 16,
   "id": "a01783ad",
   "metadata": {},
   "outputs": [],
   "source": [
    "img = cv2.imread(\"./data/test.jpg\")\n",
    "gray_img = cv2.cvtColor(img, cv2.COLOR)"
   ]
  },
  {
   "cell_type": "code",
   "execution_count": null,
   "id": "3345e136",
   "metadata": {},
   "outputs": [],
   "source": []
  }
 ],
 "metadata": {
  "kernelspec": {
   "display_name": "Python 3",
   "language": "python",
   "name": "python3"
  },
  "language_info": {
   "codemirror_mode": {
    "name": "ipython",
    "version": 3
   },
   "file_extension": ".py",
   "mimetype": "text/x-python",
   "name": "python",
   "nbconvert_exporter": "python",
   "pygments_lexer": "ipython3",
   "version": "3.8.10"
  }
 },
 "nbformat": 4,
 "nbformat_minor": 5
}
