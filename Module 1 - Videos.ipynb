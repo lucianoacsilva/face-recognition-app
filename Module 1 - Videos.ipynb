{
 "cells": [
  {
   "cell_type": "markdown",
   "id": "6400f8ba",
   "metadata": {},
   "source": [
    "# Videos"
   ]
  },
  {
   "cell_type": "code",
   "execution_count": 2,
   "id": "3927ab02",
   "metadata": {},
   "outputs": [],
   "source": [
    "import numpy as np\n",
    "import cv2"
   ]
  },
  {
   "cell_type": "code",
   "execution_count": 5,
   "id": "f1bfe293",
   "metadata": {},
   "outputs": [],
   "source": [
    "haar = cv2.CascadeClassifier(\"./data/haarcascade_frontalface_default.xml\")"
   ]
  },
  {
   "cell_type": "code",
   "execution_count": 7,
   "id": "f54e6c8c",
   "metadata": {},
   "outputs": [],
   "source": [
    "def face_detect(img):\n",
    "    # Gray scale\n",
    "    gray_frame = cv2.cvtColor(frame, cv2.COLOR_BGR2GRAY)\n",
    "    faces = haar.detectMultiScale(gray_frame, 1.3, 5)\n",
    "    \n",
    "    for x, y, w, h in faces:\n",
    "        cv2.rectangle(img, (x,y), (x + w, y + h), (0, 255, 255), 2)\n",
    "        \n",
    "    return img"
   ]
  },
  {
   "cell_type": "code",
   "execution_count": 10,
   "id": "1ad12d0f",
   "metadata": {},
   "outputs": [],
   "source": [
    "video = cv2.VideoCapture(\"./data/video.mp4\")\n",
    "\n",
    "while (True):\n",
    "    ret, frame = video.read()\n",
    "    \n",
    "    if(ret == False):\n",
    "        break\n",
    "        \n",
    "    \n",
    "    frame = face_detect(frame)\n",
    "    \n",
    "    cv2.imshow(\"Avengers\", frame)\n",
    "    # cv2.imshow(\"Avengers preto e branco\", gray_frame)\n",
    "    \n",
    "    if (cv2.waitKey(40) == 27):\n",
    "        break\n",
    "        \n",
    "cv2.destroyAllWindows()\n",
    "video.release()"
   ]
  }
 ],
 "metadata": {
  "kernelspec": {
   "display_name": "Python 3",
   "language": "python",
   "name": "python3"
  },
  "language_info": {
   "codemirror_mode": {
    "name": "ipython",
    "version": 3
   },
   "file_extension": ".py",
   "mimetype": "text/x-python",
   "name": "python",
   "nbconvert_exporter": "python",
   "pygments_lexer": "ipython3",
   "version": "3.8.10"
  }
 },
 "nbformat": 4,
 "nbformat_minor": 5
}
